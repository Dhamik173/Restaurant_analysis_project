{
 "cells": [
  {
   "cell_type": "code",
   "execution_count": 3,
   "id": "2bf92324-5e55-45fb-b13a-308ad6a241eb",
   "metadata": {},
   "outputs": [
    {
     "data": {
      "text/html": [
       "<div>\n",
       "<style scoped>\n",
       "    .dataframe tbody tr th:only-of-type {\n",
       "        vertical-align: middle;\n",
       "    }\n",
       "\n",
       "    .dataframe tbody tr th {\n",
       "        vertical-align: top;\n",
       "    }\n",
       "\n",
       "    .dataframe thead th {\n",
       "        text-align: right;\n",
       "    }\n",
       "</style>\n",
       "<table border=\"1\" class=\"dataframe\">\n",
       "  <thead>\n",
       "    <tr style=\"text-align: right;\">\n",
       "      <th></th>\n",
       "      <th>Restaurant ID</th>\n",
       "      <th>Restaurant Name</th>\n",
       "      <th>Country Code</th>\n",
       "      <th>City</th>\n",
       "      <th>Address</th>\n",
       "      <th>Locality</th>\n",
       "      <th>Locality Verbose</th>\n",
       "      <th>Longitude</th>\n",
       "      <th>Latitude</th>\n",
       "      <th>Cuisines</th>\n",
       "      <th>...</th>\n",
       "      <th>Currency</th>\n",
       "      <th>Has Table booking</th>\n",
       "      <th>Has Online delivery</th>\n",
       "      <th>Is delivering now</th>\n",
       "      <th>Switch to order menu</th>\n",
       "      <th>Price range</th>\n",
       "      <th>Aggregate rating</th>\n",
       "      <th>Rating color</th>\n",
       "      <th>Rating text</th>\n",
       "      <th>Votes</th>\n",
       "    </tr>\n",
       "  </thead>\n",
       "  <tbody>\n",
       "    <tr>\n",
       "      <th>0</th>\n",
       "      <td>6317637</td>\n",
       "      <td>Le Petit Souffle</td>\n",
       "      <td>162</td>\n",
       "      <td>Makati City</td>\n",
       "      <td>Third Floor, Century City Mall, Kalayaan Avenu...</td>\n",
       "      <td>Century City Mall, Poblacion, Makati City</td>\n",
       "      <td>Century City Mall, Poblacion, Makati City, Mak...</td>\n",
       "      <td>121.027535</td>\n",
       "      <td>14.565443</td>\n",
       "      <td>French, Japanese, Desserts</td>\n",
       "      <td>...</td>\n",
       "      <td>Botswana Pula(P)</td>\n",
       "      <td>Yes</td>\n",
       "      <td>No</td>\n",
       "      <td>No</td>\n",
       "      <td>No</td>\n",
       "      <td>3</td>\n",
       "      <td>4.8</td>\n",
       "      <td>Dark Green</td>\n",
       "      <td>Excellent</td>\n",
       "      <td>314</td>\n",
       "    </tr>\n",
       "    <tr>\n",
       "      <th>1</th>\n",
       "      <td>6304287</td>\n",
       "      <td>Izakaya Kikufuji</td>\n",
       "      <td>162</td>\n",
       "      <td>Makati City</td>\n",
       "      <td>Little Tokyo, 2277 Chino Roces Avenue, Legaspi...</td>\n",
       "      <td>Little Tokyo, Legaspi Village, Makati City</td>\n",
       "      <td>Little Tokyo, Legaspi Village, Makati City, Ma...</td>\n",
       "      <td>121.014101</td>\n",
       "      <td>14.553708</td>\n",
       "      <td>Japanese</td>\n",
       "      <td>...</td>\n",
       "      <td>Botswana Pula(P)</td>\n",
       "      <td>Yes</td>\n",
       "      <td>No</td>\n",
       "      <td>No</td>\n",
       "      <td>No</td>\n",
       "      <td>3</td>\n",
       "      <td>4.5</td>\n",
       "      <td>Dark Green</td>\n",
       "      <td>Excellent</td>\n",
       "      <td>591</td>\n",
       "    </tr>\n",
       "    <tr>\n",
       "      <th>2</th>\n",
       "      <td>6300002</td>\n",
       "      <td>Heat - Edsa Shangri-La</td>\n",
       "      <td>162</td>\n",
       "      <td>Mandaluyong City</td>\n",
       "      <td>Edsa Shangri-La, 1 Garden Way, Ortigas, Mandal...</td>\n",
       "      <td>Edsa Shangri-La, Ortigas, Mandaluyong City</td>\n",
       "      <td>Edsa Shangri-La, Ortigas, Mandaluyong City, Ma...</td>\n",
       "      <td>121.056831</td>\n",
       "      <td>14.581404</td>\n",
       "      <td>Seafood, Asian, Filipino, Indian</td>\n",
       "      <td>...</td>\n",
       "      <td>Botswana Pula(P)</td>\n",
       "      <td>Yes</td>\n",
       "      <td>No</td>\n",
       "      <td>No</td>\n",
       "      <td>No</td>\n",
       "      <td>4</td>\n",
       "      <td>4.4</td>\n",
       "      <td>Green</td>\n",
       "      <td>Very Good</td>\n",
       "      <td>270</td>\n",
       "    </tr>\n",
       "    <tr>\n",
       "      <th>3</th>\n",
       "      <td>6318506</td>\n",
       "      <td>Ooma</td>\n",
       "      <td>162</td>\n",
       "      <td>Mandaluyong City</td>\n",
       "      <td>Third Floor, Mega Fashion Hall, SM Megamall, O...</td>\n",
       "      <td>SM Megamall, Ortigas, Mandaluyong City</td>\n",
       "      <td>SM Megamall, Ortigas, Mandaluyong City, Mandal...</td>\n",
       "      <td>121.056475</td>\n",
       "      <td>14.585318</td>\n",
       "      <td>Japanese, Sushi</td>\n",
       "      <td>...</td>\n",
       "      <td>Botswana Pula(P)</td>\n",
       "      <td>No</td>\n",
       "      <td>No</td>\n",
       "      <td>No</td>\n",
       "      <td>No</td>\n",
       "      <td>4</td>\n",
       "      <td>4.9</td>\n",
       "      <td>Dark Green</td>\n",
       "      <td>Excellent</td>\n",
       "      <td>365</td>\n",
       "    </tr>\n",
       "    <tr>\n",
       "      <th>4</th>\n",
       "      <td>6314302</td>\n",
       "      <td>Sambo Kojin</td>\n",
       "      <td>162</td>\n",
       "      <td>Mandaluyong City</td>\n",
       "      <td>Third Floor, Mega Atrium, SM Megamall, Ortigas...</td>\n",
       "      <td>SM Megamall, Ortigas, Mandaluyong City</td>\n",
       "      <td>SM Megamall, Ortigas, Mandaluyong City, Mandal...</td>\n",
       "      <td>121.057508</td>\n",
       "      <td>14.584450</td>\n",
       "      <td>Japanese, Korean</td>\n",
       "      <td>...</td>\n",
       "      <td>Botswana Pula(P)</td>\n",
       "      <td>Yes</td>\n",
       "      <td>No</td>\n",
       "      <td>No</td>\n",
       "      <td>No</td>\n",
       "      <td>4</td>\n",
       "      <td>4.8</td>\n",
       "      <td>Dark Green</td>\n",
       "      <td>Excellent</td>\n",
       "      <td>229</td>\n",
       "    </tr>\n",
       "  </tbody>\n",
       "</table>\n",
       "<p>5 rows × 21 columns</p>\n",
       "</div>"
      ],
      "text/plain": [
       "   Restaurant ID         Restaurant Name  Country Code              City  \\\n",
       "0        6317637        Le Petit Souffle           162       Makati City   \n",
       "1        6304287        Izakaya Kikufuji           162       Makati City   \n",
       "2        6300002  Heat - Edsa Shangri-La           162  Mandaluyong City   \n",
       "3        6318506                    Ooma           162  Mandaluyong City   \n",
       "4        6314302             Sambo Kojin           162  Mandaluyong City   \n",
       "\n",
       "                                             Address  \\\n",
       "0  Third Floor, Century City Mall, Kalayaan Avenu...   \n",
       "1  Little Tokyo, 2277 Chino Roces Avenue, Legaspi...   \n",
       "2  Edsa Shangri-La, 1 Garden Way, Ortigas, Mandal...   \n",
       "3  Third Floor, Mega Fashion Hall, SM Megamall, O...   \n",
       "4  Third Floor, Mega Atrium, SM Megamall, Ortigas...   \n",
       "\n",
       "                                     Locality  \\\n",
       "0   Century City Mall, Poblacion, Makati City   \n",
       "1  Little Tokyo, Legaspi Village, Makati City   \n",
       "2  Edsa Shangri-La, Ortigas, Mandaluyong City   \n",
       "3      SM Megamall, Ortigas, Mandaluyong City   \n",
       "4      SM Megamall, Ortigas, Mandaluyong City   \n",
       "\n",
       "                                    Locality Verbose   Longitude   Latitude  \\\n",
       "0  Century City Mall, Poblacion, Makati City, Mak...  121.027535  14.565443   \n",
       "1  Little Tokyo, Legaspi Village, Makati City, Ma...  121.014101  14.553708   \n",
       "2  Edsa Shangri-La, Ortigas, Mandaluyong City, Ma...  121.056831  14.581404   \n",
       "3  SM Megamall, Ortigas, Mandaluyong City, Mandal...  121.056475  14.585318   \n",
       "4  SM Megamall, Ortigas, Mandaluyong City, Mandal...  121.057508  14.584450   \n",
       "\n",
       "                           Cuisines  ...          Currency Has Table booking  \\\n",
       "0        French, Japanese, Desserts  ...  Botswana Pula(P)               Yes   \n",
       "1                          Japanese  ...  Botswana Pula(P)               Yes   \n",
       "2  Seafood, Asian, Filipino, Indian  ...  Botswana Pula(P)               Yes   \n",
       "3                   Japanese, Sushi  ...  Botswana Pula(P)                No   \n",
       "4                  Japanese, Korean  ...  Botswana Pula(P)               Yes   \n",
       "\n",
       "  Has Online delivery Is delivering now Switch to order menu Price range  \\\n",
       "0                  No                No                   No           3   \n",
       "1                  No                No                   No           3   \n",
       "2                  No                No                   No           4   \n",
       "3                  No                No                   No           4   \n",
       "4                  No                No                   No           4   \n",
       "\n",
       "   Aggregate rating  Rating color Rating text Votes  \n",
       "0               4.8    Dark Green   Excellent   314  \n",
       "1               4.5    Dark Green   Excellent   591  \n",
       "2               4.4         Green   Very Good   270  \n",
       "3               4.9    Dark Green   Excellent   365  \n",
       "4               4.8    Dark Green   Excellent   229  \n",
       "\n",
       "[5 rows x 21 columns]"
      ]
     },
     "metadata": {},
     "output_type": "display_data"
    }
   ],
   "source": [
    "import pandas as pd\n",
    "data=pd.read_csv(\"Hotel.csv\")\n",
    "display(data.head())"
   ]
  },
  {
   "cell_type": "code",
   "execution_count": 5,
   "id": "abd6f47d-c65f-457f-bb25-7065e2bc6b85",
   "metadata": {},
   "outputs": [
    {
     "data": {
      "text/plain": [
       "array(['French, Japanese, Desserts', 'Japanese',\n",
       "       'Seafood, Asian, Filipino, Indian', ..., 'Burger, Izgara',\n",
       "       'World Cuisine, Patisserie, Cafe', 'Italian, World Cuisine'],\n",
       "      dtype=object)"
      ]
     },
     "execution_count": 5,
     "metadata": {},
     "output_type": "execute_result"
    }
   ],
   "source": [
    "data['Cuisines'].unique()"
   ]
  },
  {
   "cell_type": "code",
   "execution_count": 7,
   "id": "924a1b96-8cb2-46a2-9051-377e566df32a",
   "metadata": {},
   "outputs": [
    {
     "data": {
      "text/plain": [
       "9"
      ]
     },
     "execution_count": 7,
     "metadata": {},
     "output_type": "execute_result"
    }
   ],
   "source": [
    "sum(data['Cuisines'].isna())"
   ]
  },
  {
   "cell_type": "code",
   "execution_count": 9,
   "id": "62beb304-9cc8-4114-b690-8976e3e30687",
   "metadata": {},
   "outputs": [
    {
     "name": "stdout",
     "output_type": "stream",
     "text": [
      "Cuisines\n",
      "North Indian      3960\n",
      "Chinese           2735\n",
      "Fast Food         1986\n",
      "Mughlai            995\n",
      "Italian            764\n",
      "                  ... \n",
      "Fish and Chips       1\n",
      "Malwani              1\n",
      "Cuisine Varies       1\n",
      "Soul Food            1\n",
      "B�_rek               1\n",
      "Name: count, Length: 145, dtype: int64\n",
      "\n",
      "Top three cuisines are:\n",
      " Cuisines\n",
      "North Indian    3960\n",
      "Chinese         2735\n",
      "Fast Food       1986\n",
      "Name: count, dtype: int64\n"
     ]
    }
   ],
   "source": [
    "cuisines_count=data['Cuisines'].str.split(', ').explode().value_counts()\n",
    "print(cuisines_count)\n",
    "top_three_cuisines=cuisines_count.head(3)\n",
    "print('\\nTop three cuisines are:\\n',top_three_cuisines)"
   ]
  },
  {
   "cell_type": "code",
   "execution_count": 11,
   "id": "20d517a6-080d-4ffc-95b2-5d1096a84ba9",
   "metadata": {},
   "outputs": [
    {
     "name": "stdout",
     "output_type": "stream",
     "text": [
      "total number of restaurant:  9551\n"
     ]
    }
   ],
   "source": [
    "r=len(data['Restaurant Name'])\n",
    "print('total number of restaurant: ',r)"
   ]
  },
  {
   "cell_type": "code",
   "execution_count": 13,
   "id": "d87996eb-f298-45ad-aa6d-6b1efccb3e59",
   "metadata": {},
   "outputs": [
    {
     "name": "stdout",
     "output_type": "stream",
     "text": [
      "Cuisines\n",
      "North Indian    41.461627\n",
      "Chinese         28.635745\n",
      "Fast Food       20.793634\n",
      "Name: count, dtype: float64\n",
      "\n",
      " 41.461627054758665 % restaurants serve the North Indian cuisine,  28.635744948172963 % restaurants serve the Chinese cuisine and  20.793634174431997 % restaurants serve the Fast Food cuisine\n"
     ]
    }
   ],
   "source": [
    "restaurant_percentage=(top_three_cuisines/r)*100\n",
    "print(restaurant_percentage)\n",
    "print('\\n',restaurant_percentage.iloc[0],'% restaurants serve the North Indian cuisine, ',restaurant_percentage.iloc[1],'% restaurants serve the Chinese cuisine and ',restaurant_percentage.iloc[2],'% restaurants serve the Fast Food cuisine')"
   ]
  },
  {
   "cell_type": "code",
   "execution_count": 15,
   "id": "d18a9fdf-a3a4-421d-98ef-f88d11db6400",
   "metadata": {},
   "outputs": [
    {
     "data": {
      "text/plain": [
       "141"
      ]
     },
     "execution_count": 15,
     "metadata": {},
     "output_type": "execute_result"
    }
   ],
   "source": [
    "len(data['City'].unique())"
   ]
  },
  {
   "cell_type": "code",
   "execution_count": 17,
   "id": "6fefd67e-e6a1-4028-a7bc-5c74e42ce98c",
   "metadata": {},
   "outputs": [
    {
     "name": "stdout",
     "output_type": "stream",
     "text": [
      "City which has the highest number of restaurants: City\n",
      "New Delhi    5473\n",
      "Name: count, dtype: int64\n"
     ]
    }
   ],
   "source": [
    "c=data['City'].value_counts()\n",
    "c1=c.head(1)\n",
    "print('City which has the highest number of restaurants:',c1)"
   ]
  },
  {
   "cell_type": "code",
   "execution_count": 19,
   "id": "450e8454-afa8-47de-bcbd-d4bfe2b5a635",
   "metadata": {},
   "outputs": [
    {
     "name": "stdout",
     "output_type": "stream",
     "text": [
      "City\n",
      "Abu Dhabi          4.300000\n",
      "Agra               3.965000\n",
      "Ahmedabad          4.161905\n",
      "Albany             3.555000\n",
      "Allahabad          3.395000\n",
      "                     ...   \n",
      "Weirton            3.900000\n",
      "Wellington City    4.250000\n",
      "Winchester Bay     3.200000\n",
      "Yorkton            3.300000\n",
      "��stanbul          4.292857\n",
      "Name: Aggregate rating, Length: 141, dtype: float64\n"
     ]
    }
   ],
   "source": [
    "avg_rating=data['Aggregate rating'].groupby(data['City']).mean()\n",
    "print(avg_rating)"
   ]
  },
  {
   "cell_type": "code",
   "execution_count": 21,
   "id": "4cdc6c00-f924-4263-b0c1-6f8503996095",
   "metadata": {},
   "outputs": [
    {
     "name": "stdout",
     "output_type": "stream",
     "text": [
      "City with the highest average rating: City\n",
      "Abu Dhabi    4.3\n",
      "Name: Aggregate rating, dtype: float64\n"
     ]
    }
   ],
   "source": [
    "print('City with the highest average rating:',avg_rating.head(1))"
   ]
  },
  {
   "cell_type": "code",
   "execution_count": 23,
   "id": "98919a5f-daa7-4235-9bb0-f67262b17b04",
   "metadata": {},
   "outputs": [
    {
     "data": {
      "image/png": "[encoded data removed]",
      "text/plain": [
       "<Figure size 640x480 with 1 Axes>"
      ]
     },
     "metadata": {},
     "output_type": "display_data"
    }
   ],
   "source": [
    "import matplotlib.pyplot as plt\n",
    "plt.hist(data['Price range'],color='pink')\n",
    "plt.xlabel('Price Range')\n",
    "plt.ylabel('Count of price range')\n",
    "plt.show()"
   ]
  },
  {
   "cell_type": "code",
   "execution_count": 25,
   "id": "0e85d983-6e1d-445e-aa84-18d8b3db7d71",
   "metadata": {},
   "outputs": [
    {
     "name": "stdout",
     "output_type": "stream",
     "text": [
      "percentage of restaurants in each price range category:\n",
      " Price range\n",
      "1    46.529159\n",
      "2    32.593446\n",
      "3    14.741912\n",
      "4     6.135483\n",
      "Name: count, dtype: float64\n"
     ]
    }
   ],
   "source": [
    "r=len(data['Restaurant Name'])\n",
    "p=data['Price range'].value_counts()\n",
    "percentage_restaurant=(p/r)*100\n",
    "print('percentage of restaurants in each price range category:\\n',percentage_restaurant)"
   ]
  },
  {
   "cell_type": "code",
   "execution_count": 27,
   "id": "5f7f8b7d-88d6-456e-b1dd-655be1378242",
   "metadata": {},
   "outputs": [
    {
     "name": "stdout",
     "output_type": "stream",
     "text": [
      "Has Online delivery\n",
      "No     7100\n",
      "Yes    2451\n",
      "Name: count, dtype: int64\n",
      "\n",
      " Has Online delivery\n",
      "No     74.337766\n",
      "Yes    25.662234\n",
      "Name: count, dtype: float64\n",
      "\n",
      "percentage of restaurants that offer online delivery: 25.662234321013504\n"
     ]
    }
   ],
   "source": [
    "r=len(data['Restaurant Name'])\n",
    "x=data['Has Online delivery'].value_counts()\n",
    "print(x)\n",
    "percentage_restaurant=(x/r)*100\n",
    "print('\\n',percentage_restaurant)\n",
    "print('\\npercentage of restaurants that offer online delivery:',percentage_restaurant.iloc[1])"
   ]
  },
  {
   "cell_type": "code",
   "execution_count": 29,
   "id": "6479ff89-e98f-42db-b0f9-31da969b6e6d",
   "metadata": {},
   "outputs": [
    {
     "name": "stdout",
     "output_type": "stream",
     "text": [
      "Has Online delivery\n",
      "No     2.465296\n",
      "Yes    3.248837\n",
      "Name: Aggregate rating, dtype: float64\n",
      "\n",
      "Average ratings of restaurants with online delivery is 3.2488372093023252  and without online delivery is 2.465295774647887\n"
     ]
    }
   ],
   "source": [
    "avg_rating=data['Aggregate rating'].groupby(data['Has Online delivery']).mean()\n",
    "print(avg_rating)\n",
    "print('\\nAverage ratings of restaurants with online delivery is',avg_rating.iloc[1],' and without online delivery is',avg_rating.iloc[0])"
   ]
  },
  {
   "cell_type": "code",
   "execution_count": 31,
   "id": "f447794c-60b6-4715-a513-2308b78e74dd",
   "metadata": {},
   "outputs": [
    {
     "data": {
      "image/png": "[encoded data removed]",
      "text/plain": [
       "<Figure size 640x480 with 1 Axes>"
      ]
     },
     "metadata": {},
     "output_type": "display_data"
    },
    {
     "name": "stdout",
     "output_type": "stream",
     "text": [
      "The most common rating range is 0.0 with 2148 restaurants.\n"
     ]
    }
   ],
   "source": [
    "import matplotlib.pyplot as plt\n",
    "p=data['Aggregate rating'].value_counts().sort_index()\n",
    "plt.hist(data['Aggregate rating'],color='blue')\n",
    "plt.xlabel('Rating')\n",
    "plt.ylabel('Count of restaurant')\n",
    "plt.show()\n",
    "most_common_rating_range = p.idxmax()\n",
    "most_common_rating_count = p.max()\n",
    "print(f'The most common rating range is {most_common_rating_range} with {most_common_rating_count} restaurants.')"
   ]
  },
  {
   "cell_type": "code",
   "execution_count": 33,
   "id": "996545fa-5439-4f17-acf9-7d7569d2d69a",
   "metadata": {},
   "outputs": [
    {
     "name": "stdout",
     "output_type": "stream",
     "text": [
      "Average number of votes received by restaurants: 156.909747670401\n"
     ]
    }
   ],
   "source": [
    "avg_votes=data['Votes'].mean()\n",
    "print('Average number of votes received by restaurants:',avg_votes)"
   ]
  },
  {
   "cell_type": "code",
   "execution_count": 35,
   "id": "655be9c1-32a8-487f-b2c2-e286925523b0",
   "metadata": {},
   "outputs": [
    {
     "name": "stdout",
     "output_type": "stream",
     "text": [
      "Top common combinations of cuisines: Cuisines\n",
      "North Indian             936\n",
      "North Indian, Chinese    511\n",
      "Chinese                  354\n",
      "Name: count, dtype: int64\n"
     ]
    }
   ],
   "source": [
    "c=data['Cuisines'].value_counts()\n",
    "print('Top common combinations of cuisines:',c.head(3))"
   ]
  },
  {
   "cell_type": "code",
   "execution_count": 37,
   "id": "c92d13ef-5582-4d68-96fb-edaa477bc9cd",
   "metadata": {},
   "outputs": [
    {
     "name": "stdout",
     "output_type": "stream",
     "text": [
      "American, BBQ, Sandwich cuisines Combination has highest rating which is 4.9.\n"
     ]
    }
   ],
   "source": [
    "higher_rating=data['Aggregate rating'].groupby(data['Cuisines']).max()\n",
    "print(f'{higher_rating.idxmax()} cuisines Combination has highest rating which is {higher_rating.max()}.')"
   ]
  },
  {
   "cell_type": "code",
   "execution_count": 39,
   "id": "3ed47c6a-c496-4598-b94e-fd453cae75f8",
   "metadata": {},
   "outputs": [
    {
     "data": {
      "image/png": "[encoded data removed]",
      "text/plain": [
       "<Figure size 640x480 with 1 Axes>"
      ]
     },
     "metadata": {},
     "output_type": "display_data"
    }
   ],
   "source": [
    "import matplotlib.pyplot as plt\n",
    "plt.scatter(x=data['Longitude'],y=data['Latitude'],color='green')\n",
    "plt.xlabel('Longitude')\n",
    "plt.ylabel('Latitude')\n",
    "plt.show()"
   ]
  },
  {
   "cell_type": "code",
   "execution_count": 41,
   "id": "2ba0d1ad-86d8-4c87-9ab4-6326be7a0e7c",
   "metadata": {},
   "outputs": [
    {
     "data": {
      "image/png": "[encoded data removed]",
      "text/plain": [
       "<Figure size 640x480 with 1 Axes>"
      ]
     },
     "metadata": {},
     "output_type": "display_data"
    }
   ],
   "source": [
    "from sklearn.cluster import KMeans\n",
    "coordinates = data[['Latitude', 'Longitude']]\n",
    "kmeans = KMeans(n_clusters=5, random_state=0).fit(coordinates)\n",
    "data['Cluster'] = kmeans.labels_\n",
    "plt.scatter(coordinates['Longitude'], coordinates['Latitude'], c=data['Cluster'], marker='o')\n",
    "plt.title('Restaurant Clusters')\n",
    "plt.xlabel('Longitude')\n",
    "plt.ylabel('Latitude')\n",
    "plt.show()"
   ]
  },
  {
   "cell_type": "code",
   "execution_count": 42,
   "id": "71343fdc-3b55-441b-ac15-87828af43f6b",
   "metadata": {},
   "outputs": [
    {
     "name": "stdout",
     "output_type": "stream",
     "text": [
      "Restaurant chains: Restaurant Name\n",
      "Cafe Coffee Day       83\n",
      "Domino's Pizza        79\n",
      "Subway                63\n",
      "Green Chick Chop      51\n",
      "McDonald's            48\n",
      "                      ..\n",
      "Town Hall              2\n",
      "Halki Aanch            2\n",
      "Snack Junction         2\n",
      "Delhi Biryani Hut      2\n",
      "Beliram Degchiwala     2\n",
      "Name: count, Length: 734, dtype: int64\n"
     ]
    }
   ],
   "source": [
    "restaurant_count=data['Restaurant Name'].value_counts()\n",
    "restaurant_chain=restaurant_count[restaurant_count>1]\n",
    "print('Restaurant chains:',restaurant_chain)"
   ]
  },
  {
   "cell_type": "code",
   "execution_count": 45,
   "id": "4ab9235c-494d-43c5-adb1-424a98a8c029",
   "metadata": {},
   "outputs": [
    {
     "name": "stdout",
     "output_type": "stream",
     "text": [
      "               Restaurant Name  Aggregate rating  Votes\n",
      "629           Talaga Sampireun             4.900   5514\n",
      "8      AB's Absolute Barbecues             4.850   3151\n",
      "589           Silantro Fil-Mex             4.850   1364\n",
      "7    AB's - Absolute Barbecues             4.825  13400\n",
      "449         Naturals Ice Cream             4.800   3094\n",
      "..                         ...               ...    ...\n",
      "440           Murliwala Bakers             0.000      0\n",
      "538        Rajdhani Restaurant             0.000      0\n",
      "616                Street Cafe             0.000      0\n",
      "645              The Big Scoop             0.000      0\n",
      "713               Whatslife.in             0.000      0\n",
      "\n",
      "[734 rows x 3 columns]\n"
     ]
    }
   ],
   "source": [
    "chains_df = data[data['Restaurant Name'].isin(restaurant_chain.index)]\n",
    "chain_analysis = chains_df.groupby('Restaurant Name').agg({'Aggregate rating': 'mean','Votes': 'sum'}).reset_index()\n",
    "chain_analysis = chain_analysis.sort_values(by=['Aggregate rating', 'Votes'], ascending=[False, False])\n",
    "print(chain_analysis)"
   ]
  },
  {
   "cell_type": "code",
   "execution_count": 47,
   "id": "21a8accd-f715-4d70-927f-d33b69f0de25",
   "metadata": {},
   "outputs": [
    {
     "data": {
      "text/plain": [
       "Rating text\n",
       "Average      3737\n",
       "Not rated    2148\n",
       "Good         2100\n",
       "Very Good    1079\n",
       "Excellent     301\n",
       "Poor          186\n",
       "Name: count, dtype: int64"
      ]
     },
     "execution_count": 47,
     "metadata": {},
     "output_type": "execute_result"
    }
   ],
   "source": [
    "data['Rating text'].value_counts()"
   ]
  },
  {
   "cell_type": "code",
   "execution_count": 55,
   "id": "d18271d4-18ee-44de-81af-d161558dd153",
   "metadata": {},
   "outputs": [
    {
     "name": "stdout",
     "output_type": "stream",
     "text": [
      "Average length of review: 7.020730813527379\n",
      "Relationship between review length and rating: -0.4788848381349332\n"
     ]
    }
   ],
   "source": [
    "data['Rating length']=data['Rating text'].astype(str).apply(len)\n",
    "avg_length=data['Rating length'].mean()\n",
    "print('Average length of review:',avg_length)\n",
    "correlation = data[['Rating length', 'Aggregate rating']].corr().iloc[0,1]\n",
    "print('Relationship between review length and rating:',correlation)"
   ]
  },
  {
   "cell_type": "code",
   "execution_count": 57,
   "id": "30ec08d5-9762-4e63-97ba-a3362c5b5c5d",
   "metadata": {},
   "outputs": [
    {
     "name": "stdout",
     "output_type": "stream",
     "text": [
      "Restaurants with the highest Votes is Toit\n",
      "Restaurants with the lowest Votes is Cantinho da Gula\n"
     ]
    }
   ],
   "source": [
    "i1=data['Votes'].idxmax()\n",
    "i2=data['Votes'].idxmin()\n",
    "print('Restaurants with the highest Votes is',data['Restaurant Name'].iloc[i1])\n",
    "print('Restaurants with the lowest Votes is',data['Restaurant Name'].iloc[i2])"
   ]
  },
  {
   "cell_type": "code",
   "execution_count": 59,
   "id": "6370ca78-1d67-4ba8-83d7-9f0ceefa7e4e",
   "metadata": {},
   "outputs": [
    {
     "name": "stdout",
     "output_type": "stream",
     "text": [
      "Relationship between Rating and Votes: 0.3136905841954099\n"
     ]
    }
   ],
   "source": [
    "correlation = data[['Aggregate rating', 'Votes']].corr().iloc[0,1]\n",
    "print('Relationship between Rating and Votes:',correlation)"
   ]
  },
  {
   "cell_type": "code",
   "execution_count": 61,
   "id": "19bbf3c7-e40c-4dcb-bd3b-513f78fb7ece",
   "metadata": {},
   "outputs": [
    {
     "name": "stdout",
     "output_type": "stream",
     "text": [
      "Relationship between the price range and the availability of online delivery and table booking:\n",
      "                      Price range  Has Online delivery  Has Table booking\n",
      "Price range             1.000000             0.077918           0.501925\n",
      "Has Online delivery     0.077918             1.000000           0.101224\n",
      "Has Table booking       0.501925             0.101224           1.000000\n"
     ]
    }
   ],
   "source": [
    "from sklearn import preprocessing \n",
    "label_encoder = preprocessing.LabelEncoder() \n",
    "data['Has Online delivery'] = label_encoder.fit_transform(data['Has Online delivery'])\n",
    "data['Has Table booking'] = label_encoder.fit_transform(data['Has Table booking'])\n",
    "correlation = data[['Price range','Has Online delivery', 'Has Table booking']].corr()\n",
    "print('Relationship between the price range and the availability of online delivery and table booking:\\n',correlation)"
   ]
  },
  {
   "cell_type": "code",
   "execution_count": 63,
   "id": "1f1f92c6-34be-4087-8508-3ecdc5e826b1",
   "metadata": {},
   "outputs": [
    {
     "name": "stdout",
     "output_type": "stream",
     "text": [
      "\n",
      "Online service provider:\n",
      " Price range\n",
      "1    15.774077\n",
      "2    41.310633\n",
      "3    29.190341\n",
      "4     9.044369\n",
      "Name: Has Online delivery, dtype: float64\n",
      "\n",
      "Table booking service provider:\n",
      " Price range\n",
      "1     0.022502\n",
      "2     7.677482\n",
      "3    45.738636\n",
      "4    46.757679\n",
      "Name: Has Table booking, dtype: float64\n"
     ]
    }
   ],
   "source": [
    "online_delivery_proportions = data.groupby('Price range')['Has Online delivery'].mean() * 100\n",
    "table_booking_proportions = data.groupby('Price range')['Has Table booking'].mean() * 100\n",
    "print('\\nOnline service provider:\\n',online_delivery_proportions)\n",
    "print('\\nTable booking service provider:\\n',table_booking_proportions)"
   ]
  },
  {
   "cell_type": "code",
   "execution_count": null,
   "id": "3f6a1798-7ac6-4a6f-beb9-8b57fda8b41b",
   "metadata": {},
   "outputs": [],
   "source": []
  }
 ],
 "metadata": {
  "kernelspec": {
   "display_name": "Python 3 (ipykernel)",
   "language": "python",
   "name": "python3"
  },
  "language_info": {
   "codemirror_mode": {
    "name": "ipython",
    "version": 3
   },
   "file_extension": ".py",
   "mimetype": "text/x-python",
   "name": "python",
   "nbconvert_exporter": "python",
   "pygments_lexer": "ipython3",
   "version": "3.12.7"
  }
 },
 "nbformat": 4,
 "nbformat_minor": 5
}
